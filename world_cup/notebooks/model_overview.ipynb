{
 "cells": [
  {
   "cell_type": "markdown",
   "metadata": {},
   "source": [
    "### Introduction\n",
    "\n",
    "**Goal**: use data consisting of the scores for all games from the 2014 world cup to estimate team ability. The data used is before the final was played so the model could be used to predict who would win the final.\n",
    "\n",
    "Gelman's world cup model for the 2014 football world cup was written up as two posts. [Attempt 1](https://statmodeling.stat.columbia.edu/2014/07/13/stan-analyzes-world-cup-data/) built several models to estimate the difference in score between two teams at the world cup (well, actually the square root of the scores but we'll ignore that for now). This model had problems in that when using the fitted model to estimate the 95% intervals for the score differences for the world cup games on which the model was fit, more than 5% of the games fell outside of these 95% intervals. This was due to a bug in how Gelman implemented the model which he then fixed and wrote about it in [attempt 2](https://statmodeling.stat.columbia.edu/2014/07/15/stan-world-cup-update/).\n",
    "\n",
    "Gelman also has a nice [video](https://www.youtube.com/watch?v=T1gYvX5c2sM) where he introduces this model.\n",
    "\n",
    "### Data\n",
    "\n",
    "The data consists of the scores for all games from the 2014 world cup up to but excluding the final and 3rd/4th place play-off.\n",
    "\n",
    "Gelman also uses a version of the [Soccer Power Index](https://projects.fivethirtyeight.com/global-club-soccer-rankings/) for international teams which is just treated in the model as a rank order (not a score) - I can't seem to find. \n",
    "\n",
    "### The model\n",
    "\n",
    "We model the score difference when team $i$ plays team $j$ as $y_{ij}$:\n",
    "\n",
    "$$y_{ij} \\sim \\mathcal{t}_{\\nu}\\, (a_i - a_j, \\sigma_y)$$\n",
    "\n",
    "which is a student-t distribution with $\\nu = 7$ degrees of freedom, location $a_i - a_j$ and shared scale $\\sigma_y$.\n",
    "\n",
    "The skill-level parameter $a_i$ of the $i$th team is modelled as:\n",
    "\n",
    "$$a_i \\sim \\mathcal{N}(\\mu + b \\, s_i, \\sigma_a)$$\n",
    "\n",
    "where $s_i$ is the Soccer Power Index for the $i$th team and is used as prior knowledge about the abilities of the teams. This is thus a hierarchical model with each $a_i$ coming from a population level ability distribution. \n",
    "\n",
    "However, we care about the *relative* ability of the teams and as $\\mu$ is the average of all team's abilities and we are going to compare $a_i$ to $a_j$ for any $i$ and $j$ the $\\mu$s will cancel and so we can just set it to 0.\n",
    "\n",
    "So we instead think of each $a_i$ as the relative ability of a team (relative to the population) and it is modelled as:\n",
    "\n",
    "$$a_i \\sim \\mathcal{N}(b \\, s_i, \\sigma_a)$$\n",
    "\n",
    "**What do the parameters represent?**\n",
    "\n",
    "Now we have the model let's quickly explain what the parameters represent:\n",
    "\n",
    "* $b$: the weight of the prior information in the Soccer Power Index. If this index contains no information we would expect $b$ to be close to 0.\n",
    "* $\\sigma_a$: the residual error in the estimates of team's abilities (as even given the Soccer Power Index we do not expect to be able to estimate ability perfectly).\n",
    "* $\\sigma_y$: the observational residual error - given the relative abilities of the teams we expect errors in our score difference estimates.\n",
    "* $a_i$: this is the relative ability of each team to the population."
   ]
  },
  {
   "cell_type": "code",
   "execution_count": null,
   "metadata": {},
   "outputs": [],
   "source": []
  }
 ],
 "metadata": {
  "kernelspec": {
   "display_name": "Python [conda env:Python3]",
   "language": "python",
   "name": "conda-env-Python3-py"
  },
  "language_info": {
   "codemirror_mode": {
    "name": "ipython",
    "version": 3
   },
   "file_extension": ".py",
   "mimetype": "text/x-python",
   "name": "python",
   "nbconvert_exporter": "python",
   "pygments_lexer": "ipython3",
   "version": "3.6.10"
  }
 },
 "nbformat": 4,
 "nbformat_minor": 4
}
